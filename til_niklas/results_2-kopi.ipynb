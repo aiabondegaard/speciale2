{
 "cells": [
  {
   "cell_type": "code",
   "execution_count": null,
   "metadata": {},
   "outputs": [],
   "source": [
    "%load_ext autoreload\n",
    "%autoreload 2\n",
    "\n",
    "import numpy as np\n",
    "import numba as nb\n",
    "from scipy import stats\n",
    "from scipy import optimize\n",
    "\n",
    "import matplotlib.pyplot as plt\n",
    "from mpl_toolkits import mplot3d\n",
    "from scipy.optimize import minimize\n",
    "import pandas as pd\n",
    "import seaborn as sns\n",
    "\n",
    "np.set_printoptions(suppress=True, precision=6)"
   ]
  },
  {
   "cell_type": "code",
   "execution_count": null,
   "metadata": {},
   "outputs": [],
   "source": [
    "from breakdown_uncertainty_me_tax import SimpleBreakdownModelClass"
   ]
  },
  {
   "cell_type": "code",
   "execution_count": null,
   "metadata": {},
   "outputs": [],
   "source": [
    "base_model = SimpleBreakdownModelClass(par={'r':0.02,'beta':0.98,'Nm':5,'upsilon':1.05,'rho':12.0,'gamma_max':0.012,'gamma_min':0.019,'tau':5,'tax':0.4,'su':0.16,'sigma_s':0.3,'sigma_w':0.1})"
   ]
  },
  {
   "cell_type": "code",
   "execution_count": null,
   "metadata": {},
   "outputs": [],
   "source": [
    "par = base_model.par\n",
    "sol = base_model.sol\n",
    "sim = base_model.sim"
   ]
  },
  {
   "cell_type": "code",
   "execution_count": null,
   "metadata": {},
   "outputs": [],
   "source": [
    "%time base_model.solve()"
   ]
  },
  {
   "cell_type": "code",
   "execution_count": null,
   "metadata": {},
   "outputs": [],
   "source": [
    "base_model_sim = base_model.copy()\n",
    "\n",
    "base_model_sim.sim.a_init[:] = 0.0\n",
    "base_model_sim.sim.e_init[:] = 0\n",
    "base_model_sim.simulate()"
   ]
  },
  {
   "cell_type": "markdown",
   "metadata": {},
   "source": [
    "# Dobbelt SU kandidat"
   ]
  },
  {
   "cell_type": "code",
   "execution_count": null,
   "metadata": {},
   "outputs": [],
   "source": [
    "from dobbelt_su_kandidat import DobbeltSUKandidatClass"
   ]
  },
  {
   "cell_type": "code",
   "execution_count": null,
   "metadata": {},
   "outputs": [],
   "source": [
    "def zero_budget3(tax):\n",
    "    dobbelt_su_model = DobbeltSUKandidatClass(par={'r':0.02,'beta':0.98,'Nm':5,'upsilon':1.05,'rho':12.0,'gamma_max':0.012,'gamma_min':0.019,'tau':5,'tax':tax,'su':0.16,'sigma_s':0.3,'sigma_w':0.1})\n",
    "    dobbelt_su_model.solve()\n",
    "    dobbelt_su_model.sim.a_init[:]=0.0\n",
    "    dobbelt_su_model.sim.e_init[:]=0.0\n",
    "    dobbelt_su_model.simulate()\n",
    "    return ((np.sum(0.4*np.mean(dobbelt_su_model.sim.income[:,:-1],axis=0)) - (np.sum(np.mean(dobbelt_su_model.sim.su[:,:-1],axis=0))))-(np.sum(0.4*np.mean(base_model_sim.sim.income[:,:-1],axis=0)) - (np.sum(np.mean(base_model_sim.sim.su[:,:-1],axis=0)))))\n",
    "\n",
    "res3 = optimize.root_scalar(zero_budget3, bracket=[0.3, 0.7], method='brentq')"
   ]
  },
  {
   "cell_type": "code",
   "execution_count": null,
   "metadata": {},
   "outputs": [],
   "source": [
    "print(res3)"
   ]
  },
  {
   "cell_type": "markdown",
   "metadata": {},
   "source": [
    "# Kun SU til lave typer"
   ]
  },
  {
   "cell_type": "code",
   "execution_count": null,
   "metadata": {},
   "outputs": [],
   "source": [
    "from su_til_fattige import SUTilFattigeClass"
   ]
  },
  {
   "cell_type": "code",
   "execution_count": null,
   "metadata": {},
   "outputs": [],
   "source": [
    "def zero_budget4(tax):\n",
    "    su_fattig_model = SUTilFattigeClass(par={'r':0.02,'beta':0.98,'Nm':5,'upsilon':1.05,'rho':12.0,'gamma_max':0.012,'gamma_min':0.019,'tau':5,'tax':tax,'su':0.16,'sigma_s':0.3,'sigma_w':0.1})\n",
    "    su_fattig_model.solve()\n",
    "    su_fattig_model.sim.a_init[:]=0.0\n",
    "    su_fattig_model.sim.e_init[:]=0.0\n",
    "    su_fattig_model.simulate()\n",
    "    return ((np.sum(0.4*np.mean(su_fattig_model.sim.income[:,:-1],axis=0)) - (np.sum(np.mean(su_fattig_model.sim.su[:,:-1],axis=0))))-(np.sum(0.4*np.mean(base_model_sim.sim.income[:,:-1],axis=0)) - (np.sum(np.mean(base_model_sim.sim.su[:,:-1],axis=0)))))\n",
    "\n",
    "res4 = optimize.root_scalar(zero_budget4, bracket=[0.2, 0.5], method='brentq')"
   ]
  },
  {
   "cell_type": "code",
   "execution_count": null,
   "metadata": {},
   "outputs": [],
   "source": [
    "print(res4)"
   ]
  },
  {
   "cell_type": "markdown",
   "metadata": {},
   "source": [
    "# Højere varians på lav uddannelse"
   ]
  },
  {
   "cell_type": "code",
   "execution_count": null,
   "metadata": {},
   "outputs": [],
   "source": [
    "from varians_lavtuddannede import VariansLavtuddClass"
   ]
  },
  {
   "cell_type": "code",
   "execution_count": null,
   "metadata": {},
   "outputs": [],
   "source": [
    "def zero_budget5(tax):\n",
    "    varians_lavtudd_model = VariansLavtuddClass(par={'r':0.02,'beta':0.98,'Nm':5,'upsilon':1.05,'rho':12.0,'gamma_max':0.012,'gamma_min':0.019,'tau':5,'tax':tax,'su':0.16,'sigma_s':0.3})\n",
    "    varians_lavtudd_model.solve()\n",
    "    varians_lavtudd_model.sim.a_init[:]=0.0\n",
    "    varians_lavtudd_model.sim.e_init[:]=0.0\n",
    "    varians_lavtudd_model.simulate()\n",
    "    return ((np.sum(0.4*np.mean(varians_lavtudd_model.sim.income[:,:-1],axis=0)) - (np.sum(np.mean(varians_lavtudd_model.sim.su[:,:-1],axis=0))))-(np.sum(0.4*np.mean(base_model_sim.sim.income[:,:-1],axis=0)) - (np.sum(np.mean(base_model_sim.sim.su[:,:-1],axis=0)))))\n",
    "\n",
    "res5 = optimize.root_scalar(zero_budget5, bracket=[0.3, 0.5], method='brentq')"
   ]
  },
  {
   "cell_type": "code",
   "execution_count": null,
   "metadata": {},
   "outputs": [],
   "source": [
    "print(res5)"
   ]
  }
 ],
 "metadata": {
  "language_info": {
   "name": "python"
  }
 },
 "nbformat": 4,
 "nbformat_minor": 2
}
